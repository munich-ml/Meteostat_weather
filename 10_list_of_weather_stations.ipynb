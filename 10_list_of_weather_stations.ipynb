{
  "nbformat": 4,
  "nbformat_minor": 0,
  "metadata": {
    "kernelspec": {
      "display_name": "Python 3",
      "language": "python",
      "name": "python3"
    },
    "language_info": {
      "codemirror_mode": {
        "name": "ipython",
        "version": 3
      },
      "file_extension": ".py",
      "mimetype": "text/x-python",
      "name": "python",
      "nbconvert_exporter": "python",
      "pygments_lexer": "ipython3",
      "version": "3.7.6"
    },
    "colab": {
      "name": "10_list_of_weather_stations.ipynb",
      "provenance": [],
      "toc_visible": true,
      "include_colab_link": true
    }
  },
  "cells": [
    {
      "cell_type": "markdown",
      "metadata": {
        "id": "view-in-github",
        "colab_type": "text"
      },
      "source": [
        "<a href=\"https://colab.research.google.com/github/munich-ml/Meteostat_weather/blob/main/10_list_of_weather_stations.ipynb\" target=\"_parent\"><img src=\"https://colab.research.google.com/assets/colab-badge.svg\" alt=\"Open In Colab\"/></a>"
      ]
    },
    {
      "cell_type": "code",
      "metadata": {
        "id": "TWNY0_JSW_-A"
      },
      "source": [
        "import gzip, json, os, requests\n",
        "import pandas as pd"
      ],
      "execution_count": 1,
      "outputs": []
    },
    {
      "cell_type": "markdown",
      "metadata": {
        "id": "YpMk1mv6W_-K"
      },
      "source": [
        "# Available weather stations\n",
        "https://github.com/meteostat/weather-stations\n",
        "\n",
        "Procedure:\n",
        "- download and safe ``lite.json.gz`` file \n",
        "- open ``.gz`` using ``gzip`` module\n",
        "- interpret file content as ``json`` using ``json.loads``"
      ]
    },
    {
      "cell_type": "code",
      "metadata": {
        "id": "yQYK4VtbW_-L"
      },
      "source": [
        "stations_gz_url = \"https://bulk.meteostat.net/v2/stations/lite.json.gz\"\n",
        "fn_gz = stations_gz_url.split(\"/\")[-1]"
      ],
      "execution_count": 2,
      "outputs": []
    },
    {
      "cell_type": "code",
      "metadata": {
        "id": "h489ky6oW_-L"
      },
      "source": [
        "with open(fn_gz, \"wb\") as f:\n",
        "    r = requests.get(stations_gz_url)\n",
        "    f.write(r.content)"
      ],
      "execution_count": 3,
      "outputs": []
    },
    {
      "cell_type": "code",
      "metadata": {
        "id": "6w78BM_6W_-M",
        "outputId": "02e1a769-ddfb-48b3-92cc-b36628d4f40f",
        "colab": {
          "base_uri": "https://localhost:8080/"
        }
      },
      "source": [
        "os.listdir()"
      ],
      "execution_count": 4,
      "outputs": [
        {
          "output_type": "execute_result",
          "data": {
            "text/plain": [
              "['.config', 'lite.json.gz', 'sample_data']"
            ]
          },
          "metadata": {
            "tags": []
          },
          "execution_count": 4
        }
      ]
    },
    {
      "cell_type": "code",
      "metadata": {
        "id": "udGFWEUgW_-N"
      },
      "source": [
        "with gzip.open(fn_gz, 'rb') as file_gz:\n",
        "    content_gz = file_gz.read()\n",
        "    station_list = json.loads(content_gz)"
      ],
      "execution_count": 5,
      "outputs": []
    },
    {
      "cell_type": "code",
      "metadata": {
        "id": "NOLP_j6aW_-O",
        "outputId": "f51d48f5-217d-4264-e9f0-b077c6d291d1",
        "colab": {
          "base_uri": "https://localhost:8080/"
        }
      },
      "source": [
        "len(station_list)"
      ],
      "execution_count": 6,
      "outputs": [
        {
          "output_type": "execute_result",
          "data": {
            "text/plain": [
              "14101"
            ]
          },
          "metadata": {
            "tags": []
          },
          "execution_count": 6
        }
      ]
    },
    {
      "cell_type": "code",
      "metadata": {
        "id": "5i529tkSW_-O",
        "outputId": "0503eff8-c76c-4e26-a707-9f4d621418b8",
        "colab": {
          "base_uri": "https://localhost:8080/"
        }
      },
      "source": [
        "station_list[0]"
      ],
      "execution_count": 7,
      "outputs": [
        {
          "output_type": "execute_result",
          "data": {
            "text/plain": [
              "{'country': 'NO',\n",
              " 'history': None,\n",
              " 'id': '01001',\n",
              " 'identifiers': {'iata': None,\n",
              "  'icao': 'ENJA',\n",
              "  'national': None,\n",
              "  'wmo': '01001'},\n",
              " 'inventory': {'daily': {'end': '2021-04-24', 'start': '1921-12-31'},\n",
              "  'hourly': {'end': '2020-12-31', 'start': '1931-01-01'},\n",
              "  'monthly': {'end': 2014, 'start': 1951}},\n",
              " 'location': {'elevation': 10, 'latitude': 70.9333, 'longitude': -8.6667},\n",
              " 'name': {'en': 'Jan Mayen'},\n",
              " 'region': None,\n",
              " 'timezone': 'Europe/Oslo'}"
            ]
          },
          "metadata": {
            "tags": []
          },
          "execution_count": 7
        }
      ]
    },
    {
      "cell_type": "code",
      "metadata": {
        "id": "64N1D0dKW_-O",
        "outputId": "203a2ed3-caf9-494a-d5c5-b63e59770602",
        "colab": {
          "base_uri": "https://localhost:8080/",
          "height": 310
        }
      },
      "source": [
        "stations = pd.DataFrame(station_list).set_index(\"id\")\n",
        "stations.tail()"
      ],
      "execution_count": 8,
      "outputs": [
        {
          "output_type": "execute_result",
          "data": {
            "text/html": [
              "<div>\n",
              "<style scoped>\n",
              "    .dataframe tbody tr th:only-of-type {\n",
              "        vertical-align: middle;\n",
              "    }\n",
              "\n",
              "    .dataframe tbody tr th {\n",
              "        vertical-align: top;\n",
              "    }\n",
              "\n",
              "    .dataframe thead th {\n",
              "        text-align: right;\n",
              "    }\n",
              "</style>\n",
              "<table border=\"1\" class=\"dataframe\">\n",
              "  <thead>\n",
              "    <tr style=\"text-align: right;\">\n",
              "      <th></th>\n",
              "      <th>name</th>\n",
              "      <th>country</th>\n",
              "      <th>region</th>\n",
              "      <th>identifiers</th>\n",
              "      <th>location</th>\n",
              "      <th>timezone</th>\n",
              "      <th>history</th>\n",
              "      <th>inventory</th>\n",
              "    </tr>\n",
              "    <tr>\n",
              "      <th>id</th>\n",
              "      <th></th>\n",
              "      <th></th>\n",
              "      <th></th>\n",
              "      <th></th>\n",
              "      <th></th>\n",
              "      <th></th>\n",
              "      <th></th>\n",
              "      <th></th>\n",
              "    </tr>\n",
              "  </thead>\n",
              "  <tbody>\n",
              "    <tr>\n",
              "      <th>ZSYT0</th>\n",
              "      <td>{'en': 'Yantai / Laishanzhen'}</td>\n",
              "      <td>CN</td>\n",
              "      <td>SD</td>\n",
              "      <td>{'national': None, 'wmo': None, 'icao': 'ZSYT'...</td>\n",
              "      <td>{'latitude': 37.4017, 'longitude': 121.372, 'e...</td>\n",
              "      <td>Asia/Shanghai</td>\n",
              "      <td>None</td>\n",
              "      <td>{'hourly': {'start': '2020-09-14', 'end': '202...</td>\n",
              "    </tr>\n",
              "    <tr>\n",
              "      <th>ZSZS0</th>\n",
              "      <td>{'en': 'Shuguang Nongchang / Zhoushan / Banyue...</td>\n",
              "      <td>CN</td>\n",
              "      <td>ZJ</td>\n",
              "      <td>{'national': None, 'wmo': None, 'icao': 'ZSZS'...</td>\n",
              "      <td>{'latitude': 29.9342, 'longitude': 122.362, 'e...</td>\n",
              "      <td>Asia/Shanghai</td>\n",
              "      <td>None</td>\n",
              "      <td>{'hourly': {'start': '2011-01-16', 'end': '201...</td>\n",
              "    </tr>\n",
              "    <tr>\n",
              "      <th>ZWTC0</th>\n",
              "      <td>{'en': 'Qaxa / Tacheng'}</td>\n",
              "      <td>CN</td>\n",
              "      <td>XJ</td>\n",
              "      <td>{'national': None, 'wmo': None, 'icao': 'ZWTC'...</td>\n",
              "      <td>{'latitude': 46.6725, 'longitude': 83.3408, 'e...</td>\n",
              "      <td>Asia/Urumqi</td>\n",
              "      <td>None</td>\n",
              "      <td>{'hourly': {'start': '2020-04-09', 'end': '202...</td>\n",
              "    </tr>\n",
              "    <tr>\n",
              "      <th>ZWWW0</th>\n",
              "      <td>{'en': 'Diwopu / Urumqi /  Dihua'}</td>\n",
              "      <td>CN</td>\n",
              "      <td>XJ</td>\n",
              "      <td>{'national': None, 'wmo': None, 'icao': 'ZWWW'...</td>\n",
              "      <td>{'latitude': 43.9, 'longitude': 87.4667, 'elev...</td>\n",
              "      <td>Asia/Urumqi</td>\n",
              "      <td>None</td>\n",
              "      <td>{'hourly': {'start': '1985-02-09', 'end': '202...</td>\n",
              "    </tr>\n",
              "    <tr>\n",
              "      <th>ZYTX0</th>\n",
              "      <td>{'en': 'Shenyang / Fengt'ien / Mukden'}</td>\n",
              "      <td>CN</td>\n",
              "      <td>LN</td>\n",
              "      <td>{'national': None, 'wmo': None, 'icao': 'ZYTX'...</td>\n",
              "      <td>{'latitude': 41.8, 'longitude': 123.4, 'elevat...</td>\n",
              "      <td>Asia/Shanghai</td>\n",
              "      <td>None</td>\n",
              "      <td>{'hourly': {'start': '1992-07-01', 'end': '202...</td>\n",
              "    </tr>\n",
              "  </tbody>\n",
              "</table>\n",
              "</div>"
            ],
            "text/plain": [
              "                                                    name  ...                                          inventory\n",
              "id                                                        ...                                                   \n",
              "ZSYT0                     {'en': 'Yantai / Laishanzhen'}  ...  {'hourly': {'start': '2020-09-14', 'end': '202...\n",
              "ZSZS0  {'en': 'Shuguang Nongchang / Zhoushan / Banyue...  ...  {'hourly': {'start': '2011-01-16', 'end': '201...\n",
              "ZWTC0                           {'en': 'Qaxa / Tacheng'}  ...  {'hourly': {'start': '2020-04-09', 'end': '202...\n",
              "ZWWW0                 {'en': 'Diwopu / Urumqi /  Dihua'}  ...  {'hourly': {'start': '1985-02-09', 'end': '202...\n",
              "ZYTX0            {'en': 'Shenyang / Fengt'ien / Mukden'}  ...  {'hourly': {'start': '1992-07-01', 'end': '202...\n",
              "\n",
              "[5 rows x 8 columns]"
            ]
          },
          "metadata": {
            "tags": []
          },
          "execution_count": 8
        }
      ]
    },
    {
      "cell_type": "code",
      "metadata": {
        "id": "ngUBO6lFW_-P",
        "outputId": "666f41eb-104f-4065-b6b3-d0d9d0574551",
        "colab": {
          "base_uri": "https://localhost:8080/"
        }
      },
      "source": [
        "print(\"{} stations\".format(len(stations)))\n",
        "print(\"{} timezones\".format(len(set(stations[\"timezone\"]))))\n",
        "print(\"{} countries\".format(len(set(stations[\"country\"]))))"
      ],
      "execution_count": 9,
      "outputs": [
        {
          "output_type": "stream",
          "text": [
            "14101 stations\n",
            "375 timezones\n",
            "224 countries\n"
          ],
          "name": "stdout"
        }
      ]
    },
    {
      "cell_type": "code",
      "metadata": {
        "id": "Tlcg_YdgW_-P",
        "outputId": "aa8dc280-925c-49b2-da8c-d04763de188f",
        "colab": {
          "base_uri": "https://localhost:8080/"
        }
      },
      "source": [
        "pd.options.display.min_rows = 1000\n",
        "pd.options.display.max_rows = 1000\n",
        "stations[\"timezone\"].value_counts().sort_index()"
      ],
      "execution_count": 10,
      "outputs": [
        {
          "output_type": "execute_result",
          "data": {
            "text/plain": [
              "Africa/Abidjan                      14\n",
              "Africa/Accra                        22\n",
              "Africa/Addis_Ababa                  23\n",
              "Africa/Algiers                      80\n",
              "Africa/Asmara                        4\n",
              "Africa/Bamako                       32\n",
              "Africa/Bangui                        1\n",
              "Africa/Banjul                        1\n",
              "Africa/Bissau                        3\n",
              "Africa/Blantyre                     21\n",
              "Africa/Brazzaville                  19\n",
              "Africa/Bujumbura                     2\n",
              "Africa/Cairo                        37\n",
              "Africa/Casablanca                   35\n",
              "Africa/Conakry                      12\n",
              "Africa/Dakar                        12\n",
              "Africa/Dar_es_Salaam                27\n",
              "Africa/Djibouti                      2\n",
              "Africa/Douala                       24\n",
              "Africa/El_Aaiun                      2\n",
              "Africa/Freetown                      4\n",
              "Africa/Gabarone                     14\n",
              "Africa/Harare                       21\n",
              "Africa/Johannesburg                 68\n",
              "Africa/Kampala                      12\n",
              "Africa/Khartoum                     38\n",
              "Africa/Kigali                        4\n",
              "Africa/Lagos                        28\n",
              "Africa/Libreville                   15\n",
              "Africa/Lome                          9\n",
              "Africa/Luanda                       19\n",
              "Africa/Lubumbashi                   29\n",
              "Africa/Lusaka                       98\n",
              "Africa/Malabo                        2\n",
              "Africa/Maputo                       26\n",
              "Africa/Maseru                        2\n",
              "Africa/Mbabane                       3\n",
              "Africa/Mogadishu                     5\n",
              "Africa/Monrovia                      2\n",
              "Africa/Nairobi                      31\n",
              "Africa/Ndjamena                     16\n",
              "Africa/Niamey                       17\n",
              "Africa/Nouakchott                    2\n",
              "Africa/Ouagadougou                   9\n",
              "Africa/PortoNovo                     6\n",
              "Africa/Sao_Tome                      2\n",
              "Africa/Tripoli                      27\n",
              "Africa/Tunis                        15\n",
              "Africa/Windhoek                     33\n",
              "America/Adak                         8\n",
              "America/Anchorage                   13\n",
              "America/Antigua                      2\n",
              "America/Araguaina                   31\n",
              "America/Argentina/Buenos_Aires      38\n",
              "America/Argentina/Catamarca          2\n",
              "America/Argentina/Cordoba           13\n",
              "America/Argentina/Jujuy              6\n",
              "America/Argentina/La_Rioja           6\n",
              "America/Argentina/Mendoza           11\n",
              "America/Argentina/Rio_Gallegos      16\n",
              "America/Argentina/Salta              1\n",
              "America/Argentina/San_Juan           3\n",
              "America/Argentina/San_Luis           9\n",
              "America/Argentina/Tucuman            7\n",
              "America/Argentina/Ushuaia            2\n",
              "America/Asuncion                    30\n",
              "America/Atikokan                     2\n",
              "America/Bahia                       76\n",
              "America/Barbados                     2\n",
              "America/Belem                       27\n",
              "America/Belize                       1\n",
              "America/Blanc-Sablon                 1\n",
              "America/BlancSablon                  2\n",
              "America/Boa_Vista                    5\n",
              "America/Bogota                      54\n",
              "America/Boise                       20\n",
              "America/Cambridge_Bay               20\n",
              "America/Campo_Grande                31\n",
              "America/Cancun                       3\n",
              "America/Caracas                     51\n",
              "America/Cayenne                      6\n",
              "America/Cayman                       2\n",
              "America/Chicago                    902\n",
              "America/Chihuahua                    2\n",
              "America/Costa_Rica                   8\n",
              "America/Cuiaba                      40\n",
              "America/Curacao                      2\n",
              "America/Dawson                       1\n",
              "America/Dawson_Creek                 4\n",
              "America/Denver                     209\n",
              "America/Detroit                     72\n",
              "America/Dominica                     3\n",
              "America/Edmonton                   184\n",
              "America/Eirunepe                     6\n",
              "America/El_Salvador                  6\n",
              "America/Fortaleza                   83\n",
              "America/Glace_Bay                    6\n",
              "America/Godthab                     34\n",
              "America/Goose_Bay                   15\n",
              "America/Grand_Turk                   2\n",
              "America/Grenada                      1\n",
              "America/Guadeloupe                   3\n",
              "America/Guatemala                   13\n",
              "America/Guayaquil                   13\n",
              "America/Guyana                       9\n",
              "America/Halifax                     38\n",
              "America/Havana                      24\n",
              "America/Hermosillo                   9\n",
              "America/Indiana/Indianapolis        35\n",
              "America/Indiana/Knox                 1\n",
              "America/Indiana/Tell_City            2\n",
              "America/Indiana/Vincennes            2\n",
              "America/Inuvik                       3\n",
              "America/Iqaluit                     16\n",
              "America/Jamaica                      2\n",
              "America/Juneau                     136\n",
              "America/Kentucky/Louisville          2\n",
              "America/Kentucky/Monticello          1\n",
              "America/La_Paz                      46\n",
              "America/Lima                        42\n",
              "America/Los_Angeles                264\n",
              "America/Maceio                      17\n",
              "America/Managua                     10\n",
              "America/Manaus                      29\n",
              "America/Martinique                   2\n",
              "America/Mazatlan                    11\n",
              "America/Menominee                    3\n",
              "America/Merida                      15\n",
              "America/Mexico_City                 48\n",
              "America/Moncton                     24\n",
              "America/Monterrey                   24\n",
              "America/Montevideo                  21\n",
              "America/Montreal                   124\n",
              "America/Montserrat                   2\n",
              "America/Nassau                      10\n",
              "America/New_York                   662\n",
              "America/Nipigon                      3\n",
              "America/Nome                        21\n",
              "America/Noronha                      4\n",
              "America/North_Dakota/New_Salem       2\n",
              "America/Nuuk                         1\n",
              "America/Panama                      18\n",
              "America/Pangnirtung                 10\n",
              "America/Paramaribo                   5\n",
              "America/Phoenix                     43\n",
              "America/Port-au-Prince               1\n",
              "America/Port_of_Spain                3\n",
              "America/Porto_Velho                  8\n",
              "America/Puerto_Rico                  6\n",
              "America/Punta_Arenas                 2\n",
              "America/Rankin_Inlet                13\n",
              "America/Recife                      20\n",
              "America/Regina                      53\n",
              "America/Resolute                     7\n",
              "America/Rio_Branco                   7\n",
              "America/Santarem                     4\n",
              "America/Santiago                    47\n",
              "America/Santo_Domingo               11\n",
              "America/Sao_Paulo                  328\n",
              "America/Scoresbysund                 2\n",
              "America/Shiprock                     1\n",
              "America/St_Johns                    35\n",
              "America/St_Lucia                     3\n",
              "America/St_Thomas                    1\n",
              "America/St_Vincent                   2\n",
              "America/Swift_Current                1\n",
              "America/Tegucigalpa                 18\n",
              "America/Thule                        5\n",
              "America/Thunder_Bay                  4\n",
              "America/Tijuana                      4\n",
              "America/Toronto                    104\n",
              "America/Tortola                      3\n",
              "America/Vancouver                  142\n",
              "America/Vancouver\\n                  1\n",
              "America/Whitehorse                  23\n",
              "America/Winnipeg                    64\n",
              "America/Yakutat                      1\n",
              "America/Yellowknife                 56\n",
              "Antarctica/Casey                     3\n",
              "Antarctica/Davis                     6\n",
              "Antarctica/DumontDUrville            6\n",
              "Antarctica/Mawson                    5\n",
              "Antarctica/McMurdo                  16\n",
              "Antarctica/Palmer                   16\n",
              "Antarctica/Rothera                   5\n",
              "Antarctica/South_Pole                8\n",
              "Antarctica/Syowa                    12\n",
              "Antarctica/Vostok                    2\n",
              "Arctic/Longyearbyen                  2\n",
              "Asia/Aden                           10\n",
              "Asia/Almaty                         65\n",
              "Asia/Amman                           9\n",
              "Asia/Anadyr                         26\n",
              "Asia/Aqtau                          15\n",
              "Asia/Aqtobe                         42\n",
              "Asia/Ashgabat                       52\n",
              "Asia/Baghdad                        39\n",
              "Asia/Bahrain                         2\n",
              "Asia/Baku                           62\n",
              "Asia/Bangkok                       123\n",
              "Asia/Barnaul                         3\n",
              "Asia/Beirut                          4\n",
              "Asia/Bishkek                        27\n",
              "Asia/Brunei                          1\n",
              "Asia/Choibalsan                      1\n",
              "Asia/Chongqing                      76\n",
              "Asia/Colombo                        23\n",
              "Asia/Damascus                        9\n",
              "Asia/Dhaka                          12\n",
              "Asia/Dili                            1\n",
              "Asia/Dubai                          15\n",
              "Asia/Dushanbe                       41\n",
              "Asia/Harbin                         19\n",
              "Asia/Ho_Chi_Minh                    20\n",
              "Asia/Hong_Kong                       4\n",
              "Asia/Hovd                            3\n",
              "Asia/Irkutsk                        75\n",
              "Asia/Jakarta                        40\n",
              "Asia/Jayapura                       26\n",
              "Asia/Jerusalem                      11\n",
              "Asia/Kabul                          38\n",
              "Asia/Kamchatka                      15\n",
              "Asia/Karachi                        54\n",
              "Asia/Kashgar                         6\n",
              "Asia/Kathmandu                       4\n",
              "Asia/Katmandu                       12\n",
              "Asia/Kolkata                       454\n",
              "Asia/Krasnoyarsk                   143\n",
              "Asia/Kuala_Lumpur                   15\n",
              "Asia/Kuching                        11\n",
              "Asia/Kuwait                         10\n",
              "Asia/Macau                           1\n",
              "Asia/Magadan                        55\n",
              "Asia/Makassar                       52\n",
              "Asia/Manila                         62\n",
              "Asia/Muscat                         29\n",
              "Asia/Nicosia                         5\n",
              "Asia/Novokuznetsk                    1\n",
              "Asia/Novosibirsk                     3\n",
              "Asia/Omsk                           19\n",
              "Asia/Oral                           11\n",
              "Asia/Phnom_Penh                      4\n",
              "Asia/Pontianak                      17\n",
              "Asia/Pyongyang                       8\n",
              "Asia/Qatar                           8\n",
              "Asia/Qyzylorda                      57\n",
              "Asia/Rangoon                        21\n",
              "Asia/Riyadh                         40\n",
              "Asia/Sakhalin                       57\n",
              "Asia/Samarkand                      30\n",
              "Asia/Seoul                          71\n",
              "Asia/Shanghai                      107\n",
              "Asia/Singapore                       3\n",
              "Asia/Taipei                         27\n",
              "Asia/Tashkent                       11\n",
              "Asia/Tbilisi                        68\n",
              "Asia/Tehran                         90\n",
              "Asia/Thimphu                         1\n",
              "Asia/Tokyo                         277\n",
              "Asia/Ulaanbaatar                     3\n",
              "Asia/Ulaanbaator                    41\n",
              "Asia/Urumqi                         37\n",
              "Asia/Vientiane                      21\n",
              "Asia/Vladivostok                    39\n",
              "Asia/Yakutsk                       127\n",
              "Asia/Yangon                          1\n",
              "Asia/Yekaterinburg                 124\n",
              "Asia/Yerevan                        47\n",
              "Atlantic/Azores                      7\n",
              "Atlantic/Bermuda                     1\n",
              "Atlantic/Canary                      3\n",
              "Atlantic/Cape_Verde                  6\n",
              "Atlantic/Faroe                       2\n",
              "Atlantic/Madeira                     4\n",
              "Atlantic/Reykjavik                  19\n",
              "Atlantic/St_Helena                   1\n",
              "Atlantic/Stanley                     3\n",
              "Australia/Adelaide                  84\n",
              "Australia/Brisbane                 148\n",
              "Australia/Darwin                    56\n",
              "Australia/Hobart                    58\n",
              "Australia/Melbourne                 99\n",
              "Australia/Perth                    154\n",
              "Australia/Sydney                   208\n",
              "Europe/Amsterdam                    63\n",
              "Europe/Astrakhan                     2\n",
              "Europe/Athens                       46\n",
              "Europe/Belgrade                     46\n",
              "Europe/Berlin                     1123\n",
              "Europe/Bratislava                    7\n",
              "Europe/Brussels                     36\n",
              "Europe/Bucharest                   161\n",
              "Europe/Budapest                     40\n",
              "Europe/Chisinau                     22\n",
              "Europe/Copenhagen                   33\n",
              "Europe/Dublin                       21\n",
              "Europe/Gibraltar                     1\n",
              "Europe/Helsinki                    170\n",
              "Europe/Istanbul                    104\n",
              "Europe/Kaliningrad                   1\n",
              "Europe/Kiev                         56\n",
              "Europe/Lisbon                       23\n",
              "Europe/Ljubljana                    19\n",
              "Europe/London                      154\n",
              "Europe/Luxembourg                    1\n",
              "Europe/Madrid                      102\n",
              "Europe/Malta                         2\n",
              "Europe/Minsk                        39\n",
              "Europe/Moscow                      270\n",
              "Europe/Oslo                        265\n",
              "Europe/Paris                       220\n",
              "Europe/Prague                       25\n",
              "Europe/Riga                         26\n",
              "Europe/Rome                        164\n",
              "Europe/Samara                       52\n",
              "Europe/Sarajevo                     17\n",
              "Europe/Simferopol                   31\n",
              "Europe/Skopje                       10\n",
              "Europe/Sofia                        12\n",
              "Europe/Stockholm                    82\n",
              "Europe/Tallinn                      28\n",
              "Europe/Tirane                       10\n",
              "Europe/Uzhgorod                     28\n",
              "Europe/Vaduz                         1\n",
              "Europe/Vienna                       44\n",
              "Europe/Vilnius                      21\n",
              "Europe/Volgograd                   102\n",
              "Europe/Warsaw                       76\n",
              "Europe/Zagreb                       42\n",
              "Europe/Zaporozhye                   51\n",
              "Europe/Zurich                       24\n",
              "Indian/Antananarivo                 33\n",
              "Indian/Christmas                     1\n",
              "Indian/Cocos                         1\n",
              "Indian/Mahe                          3\n",
              "Indian/Maldives                      5\n",
              "Indian/Mauritius                     5\n",
              "Indian/Reunion                       6\n",
              "Pacific/Apia                         5\n",
              "Pacific/Auckland                    47\n",
              "Pacific/Chatham                      2\n",
              "Pacific/Efate                        9\n",
              "Pacific/Enderbury                    1\n",
              "Pacific/Fakaofo                      1\n",
              "Pacific/Fiji                        22\n",
              "Pacific/Funafuti                     4\n",
              "Pacific/Galapagos                   36\n",
              "Pacific/Gambier                     11\n",
              "Pacific/Guadalcanal                  5\n",
              "Pacific/Guam                         3\n",
              "Pacific/Honolulu                    28\n",
              "Pacific/Johnston                     1\n",
              "Pacific/Kiritimati                   2\n",
              "Pacific/Kosrae                       2\n",
              "Pacific/Kwajalein                    4\n",
              "Pacific/Majuro                       4\n",
              "Pacific/Midway                       2\n",
              "Pacific/Nauru                        2\n",
              "Pacific/Niue                         1\n",
              "Pacific/Norfolk                      2\n",
              "Pacific/Noumea                      11\n",
              "Pacific/Pago_Pago                    1\n",
              "Pacific/Palau                        1\n",
              "Pacific/Pitcairn                     1\n",
              "Pacific/Pohnpei                      3\n",
              "Pacific/Ponape                       8\n",
              "Pacific/Port_Moresby                16\n",
              "Pacific/Rarotonga                   10\n",
              "Pacific/Saipan                       5\n",
              "Pacific/Tahiti                       2\n",
              "Pacific/Tarawa                       4\n",
              "Pacific/Tongatapu                    6\n",
              "Pacific/Wake                         1\n",
              "Pacific/Wallis                       2\n",
              "Name: timezone, dtype: int64"
            ]
          },
          "metadata": {
            "tags": []
          },
          "execution_count": 10
        }
      ]
    },
    {
      "cell_type": "markdown",
      "metadata": {
        "id": "JKmSFWjWW_-Q"
      },
      "source": [
        "# Conclusion\n",
        "The list of weather stations is available and can be used to search for specific stations. However, it's prabably easier to look-up a station from [meteostat.net](https://meteostat.net/en)."
      ]
    }
  ]
}